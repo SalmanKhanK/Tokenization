{
 "cells": [
  {
   "cell_type": "code",
   "execution_count": 1,
   "metadata": {},
   "outputs": [],
   "source": [
    "import re\n",
    "\n",
    "def tokenizer(string: str):\n",
    "    token_rexes = [\n",
    "        (re.compile(r\"^[a-zA-Z_][a-zA-Z0-9_]*\"), \"iden\"), # variables\n",
    "        (re.compile(r\"^[0-9]+\"), \"num\"), # integers\n",
    "        (re.compile(r\"^[+*%/-]\"), \"op\"), # operators\n",
    "        (re.compile(r\"^[()]\"), \"paran\"), # parantehses\n",
    "        (re.compile(r\"^[(>=)|(<=)|(==)|(!=)$]{2}\"), \"cond\"), # conditional\n",
    "        (re.compile(r\"^=\"),\"assig\"),\n",
    "        (re.compile(r\"^[(>)|(<)|(!)$]{1}\"), \"cond\")\n",
    "    ]\n",
    "\n",
    "    tokens = []\n",
    "\n",
    "    while len(string):\n",
    "        string = string.lstrip()\n",
    "\n",
    "        matched = False\n",
    "\n",
    "        for token_rex, token_type in token_rexes:\n",
    "            mo = token_rex.match(string)\n",
    "            if mo:\n",
    "                matched = True\n",
    "                token = (mo.group(0), token_type)\n",
    "                tokens.append(token)\n",
    "                string  = token_rex.sub('', string)\n",
    "                string = string.lstrip()\n",
    "                break # break out of the inner loop\n",
    "        \n",
    "        if not matched:\n",
    "            raise Exception(\"Invalid String\")\n",
    "    \n",
    "    return tokens"
   ]
  },
  {
   "cell_type": "code",
   "execution_count": 2,
   "metadata": {},
   "outputs": [
    {
     "name": "stdout",
     "output_type": "stream",
     "text": [
      "[('a', 'iden'), ('==', 'cond'), ('b', 'iden')]\n",
      "[('a', 'iden'), ('!=', 'cond'), ('b', 'iden')]\n",
      "Wrong Expression\n",
      "Wrong Expression\n",
      "[('92', 'num'), ('_ab', 'iden')]\n",
      "[('abc', 'iden')]\n"
     ]
    }
   ],
   "source": [
    "f = open(\"demofile.txt\", \"r\")\n",
    "#inp=f.readline()\n",
    "while(f.readline()):\n",
    "    try:\n",
    "        tokens = tokenizer(f.readline())\n",
    "        print(tokens)\n",
    "        file1 = open(\"CCOutput.txt\", \"a\")  # append mode \n",
    "        file1.write(\"{}\\n\".format(tokens)) \n",
    "        file1.close() \n",
    "           \n",
    "    except:\n",
    "        print(\"Wrong Expression\")\n",
    "        file1 = open(\"CCOutput.txt\", \"a\")  # append mode \n",
    "        file1.write(\"{}\\n\".format(\"Wrong Expression\")) \n",
    "        file1.close() \n",
    "        exit()"
   ]
  },
  {
   "cell_type": "code",
   "execution_count": null,
   "metadata": {},
   "outputs": [],
   "source": []
  },
  {
   "cell_type": "code",
   "execution_count": null,
   "metadata": {},
   "outputs": [],
   "source": []
  }
 ],
 "metadata": {
  "kernelspec": {
   "display_name": "Python 3",
   "language": "python",
   "name": "python3"
  },
  "language_info": {
   "codemirror_mode": {
    "name": "ipython",
    "version": 3
   },
   "file_extension": ".py",
   "mimetype": "text/x-python",
   "name": "python",
   "nbconvert_exporter": "python",
   "pygments_lexer": "ipython3",
   "version": "3.7.4"
  }
 },
 "nbformat": 4,
 "nbformat_minor": 2
}
